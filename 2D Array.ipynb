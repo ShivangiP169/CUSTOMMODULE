{
  "nbformat": 4,
  "nbformat_minor": 0,
  "metadata": {
    "colab": {
      "provenance": [],
      "authorship_tag": "ABX9TyM0GbY/AVo4YFVqOnROuRVW",
      "include_colab_link": true
    },
    "kernelspec": {
      "name": "python3",
      "display_name": "Python 3"
    },
    "language_info": {
      "name": "python"
    }
  },
  "cells": [
    {
      "cell_type": "markdown",
      "metadata": {
        "id": "view-in-github",
        "colab_type": "text"
      },
      "source": [
        "<a href=\"https://colab.research.google.com/github/ShivangiP169/CUSTOMMODULE/blob/main/2D%20Array.ipynb\" target=\"_parent\"><img src=\"https://colab.research.google.com/assets/colab-badge.svg\" alt=\"Open In Colab\"/></a>"
      ]
    },
    {
      "cell_type": "markdown",
      "source": [
        "EASY"
      ],
      "metadata": {
        "id": "RqbUmJaP1xMz"
      }
    },
    {
      "cell_type": "code",
      "execution_count": null,
      "metadata": {
        "id": "ZejNgz3_1sGm"
      },
      "outputs": [],
      "source": [
        "1.\n",
        "X =[\n",
        "  [11,12,13], # Added commas to define rows properly\n",
        "  [21,22,23],\n",
        "  [31,32,33]\n",
        "           ]\n",
        "\n",
        "# access of element of 2d array\n",
        "op = X[1][2]\n",
        "print(op)\n",
        "\n",
        "# traverse all elements\n",
        "for i in X: #row  # Corrected 'x' to 'X' to match the variable name\n",
        "    for j in i : # i the row traversal of j the column\n",
        "        print(j, end =\" \") # Indented this line to be part of the inner loop\n",
        "    print() # Indented this line to be part of the outer loop"
      ]
    }
  ]
}